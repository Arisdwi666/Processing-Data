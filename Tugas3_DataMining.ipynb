{
  "nbformat": 4,
  "nbformat_minor": 0,
  "metadata": {
    "colab": {
      "provenance": []
    },
    "kernelspec": {
      "name": "python3",
      "display_name": "Python 3"
    },
    "language_info": {
      "name": "python"
    },
    "accelerator": "GPU",
    "gpuClass": "standard"
  },
  "cells": [
    {
      "cell_type": "markdown",
      "source": [
        "Nama : Aris Dwi Wahyudi\n",
        "\n",
        "Nim : A11.2020.13070\n",
        "\n",
        "# **Tugas 3 Processing Data**\n",
        "\n",
        "Saya menggunakan Data yang tertera dikulino, tetapi memodifikasi cara processing datanya"
      ],
      "metadata": {
        "id": "2tpIpDLnBKQL"
      }
    },
    {
      "cell_type": "markdown",
      "source": [
        "# 1.   Import library yang dibutuhkan"
      ],
      "metadata": {
        "id": "6s7yy2eNdAAU"
      }
    },
    {
      "cell_type": "code",
      "execution_count": 1,
      "metadata": {
        "id": "5afMSvuacQy9"
      },
      "outputs": [],
      "source": [
        "import pandas as pd\n",
        "import numpy as np\n",
        "from sklearn.impute import SimpleImputer\n",
        "from sklearn.preprocessing import MinMaxScaler, StandardScaler\n",
        "\n"
      ]
    },
    {
      "cell_type": "markdown",
      "source": [
        "# 2. Load data "
      ],
      "metadata": {
        "id": "87gFnBICdLYV"
      }
    },
    {
      "cell_type": "code",
      "source": [
        "df = pd.read_csv('Data.csv')\n"
      ],
      "metadata": {
        "id": "wQFOfjiId0pW"
      },
      "execution_count": 2,
      "outputs": []
    },
    {
      "cell_type": "markdown",
      "source": [
        "# 3. Melihat informasi umum dari dataframe"
      ],
      "metadata": {
        "id": "KmlDiGclswiQ"
      }
    },
    {
      "cell_type": "code",
      "source": [
        "df.info()\n"
      ],
      "metadata": {
        "colab": {
          "base_uri": "https://localhost:8080/"
        },
        "id": "ivRKvHfHs1Z4",
        "outputId": "6d336da6-d25a-43e1-dba9-2fe2587ea7ae"
      },
      "execution_count": 3,
      "outputs": [
        {
          "output_type": "stream",
          "name": "stdout",
          "text": [
            "<class 'pandas.core.frame.DataFrame'>\n",
            "RangeIndex: 10 entries, 0 to 9\n",
            "Data columns (total 4 columns):\n",
            " #   Column     Non-Null Count  Dtype  \n",
            "---  ------     --------------  -----  \n",
            " 0   Country    10 non-null     object \n",
            " 1   Age        9 non-null      float64\n",
            " 2   Salary     9 non-null      float64\n",
            " 3   Purchased  10 non-null     object \n",
            "dtypes: float64(2), object(2)\n",
            "memory usage: 448.0+ bytes\n"
          ]
        }
      ]
    },
    {
      "cell_type": "markdown",
      "source": [
        "# 4. Melihat isi dari dataframe"
      ],
      "metadata": {
        "id": "VQdVao_Rs3vN"
      }
    },
    {
      "cell_type": "code",
      "source": [
        "df.head()\n"
      ],
      "metadata": {
        "colab": {
          "base_uri": "https://localhost:8080/",
          "height": 206
        },
        "id": "_36FEbq7s6Sq",
        "outputId": "9081d279-1d64-4de5-b272-f8a862eedf39"
      },
      "execution_count": 4,
      "outputs": [
        {
          "output_type": "execute_result",
          "data": {
            "text/plain": [
              "   Country   Age   Salary Purchased\n",
              "0   France  44.0  72000.0        No\n",
              "1    Spain  27.0  48000.0       Yes\n",
              "2  Germany  30.0  54000.0        No\n",
              "3    Spain  38.0  61000.0        No\n",
              "4  Germany  40.0      NaN       Yes"
            ],
            "text/html": [
              "\n",
              "  <div id=\"df-a1d86c88-2166-46ea-93ef-4060a68946df\">\n",
              "    <div class=\"colab-df-container\">\n",
              "      <div>\n",
              "<style scoped>\n",
              "    .dataframe tbody tr th:only-of-type {\n",
              "        vertical-align: middle;\n",
              "    }\n",
              "\n",
              "    .dataframe tbody tr th {\n",
              "        vertical-align: top;\n",
              "    }\n",
              "\n",
              "    .dataframe thead th {\n",
              "        text-align: right;\n",
              "    }\n",
              "</style>\n",
              "<table border=\"1\" class=\"dataframe\">\n",
              "  <thead>\n",
              "    <tr style=\"text-align: right;\">\n",
              "      <th></th>\n",
              "      <th>Country</th>\n",
              "      <th>Age</th>\n",
              "      <th>Salary</th>\n",
              "      <th>Purchased</th>\n",
              "    </tr>\n",
              "  </thead>\n",
              "  <tbody>\n",
              "    <tr>\n",
              "      <th>0</th>\n",
              "      <td>France</td>\n",
              "      <td>44.0</td>\n",
              "      <td>72000.0</td>\n",
              "      <td>No</td>\n",
              "    </tr>\n",
              "    <tr>\n",
              "      <th>1</th>\n",
              "      <td>Spain</td>\n",
              "      <td>27.0</td>\n",
              "      <td>48000.0</td>\n",
              "      <td>Yes</td>\n",
              "    </tr>\n",
              "    <tr>\n",
              "      <th>2</th>\n",
              "      <td>Germany</td>\n",
              "      <td>30.0</td>\n",
              "      <td>54000.0</td>\n",
              "      <td>No</td>\n",
              "    </tr>\n",
              "    <tr>\n",
              "      <th>3</th>\n",
              "      <td>Spain</td>\n",
              "      <td>38.0</td>\n",
              "      <td>61000.0</td>\n",
              "      <td>No</td>\n",
              "    </tr>\n",
              "    <tr>\n",
              "      <th>4</th>\n",
              "      <td>Germany</td>\n",
              "      <td>40.0</td>\n",
              "      <td>NaN</td>\n",
              "      <td>Yes</td>\n",
              "    </tr>\n",
              "  </tbody>\n",
              "</table>\n",
              "</div>\n",
              "      <button class=\"colab-df-convert\" onclick=\"convertToInteractive('df-a1d86c88-2166-46ea-93ef-4060a68946df')\"\n",
              "              title=\"Convert this dataframe to an interactive table.\"\n",
              "              style=\"display:none;\">\n",
              "        \n",
              "  <svg xmlns=\"http://www.w3.org/2000/svg\" height=\"24px\"viewBox=\"0 0 24 24\"\n",
              "       width=\"24px\">\n",
              "    <path d=\"M0 0h24v24H0V0z\" fill=\"none\"/>\n",
              "    <path d=\"M18.56 5.44l.94 2.06.94-2.06 2.06-.94-2.06-.94-.94-2.06-.94 2.06-2.06.94zm-11 1L8.5 8.5l.94-2.06 2.06-.94-2.06-.94L8.5 2.5l-.94 2.06-2.06.94zm10 10l.94 2.06.94-2.06 2.06-.94-2.06-.94-.94-2.06-.94 2.06-2.06.94z\"/><path d=\"M17.41 7.96l-1.37-1.37c-.4-.4-.92-.59-1.43-.59-.52 0-1.04.2-1.43.59L10.3 9.45l-7.72 7.72c-.78.78-.78 2.05 0 2.83L4 21.41c.39.39.9.59 1.41.59.51 0 1.02-.2 1.41-.59l7.78-7.78 2.81-2.81c.8-.78.8-2.07 0-2.86zM5.41 20L4 18.59l7.72-7.72 1.47 1.35L5.41 20z\"/>\n",
              "  </svg>\n",
              "      </button>\n",
              "      \n",
              "  <style>\n",
              "    .colab-df-container {\n",
              "      display:flex;\n",
              "      flex-wrap:wrap;\n",
              "      gap: 12px;\n",
              "    }\n",
              "\n",
              "    .colab-df-convert {\n",
              "      background-color: #E8F0FE;\n",
              "      border: none;\n",
              "      border-radius: 50%;\n",
              "      cursor: pointer;\n",
              "      display: none;\n",
              "      fill: #1967D2;\n",
              "      height: 32px;\n",
              "      padding: 0 0 0 0;\n",
              "      width: 32px;\n",
              "    }\n",
              "\n",
              "    .colab-df-convert:hover {\n",
              "      background-color: #E2EBFA;\n",
              "      box-shadow: 0px 1px 2px rgba(60, 64, 67, 0.3), 0px 1px 3px 1px rgba(60, 64, 67, 0.15);\n",
              "      fill: #174EA6;\n",
              "    }\n",
              "\n",
              "    [theme=dark] .colab-df-convert {\n",
              "      background-color: #3B4455;\n",
              "      fill: #D2E3FC;\n",
              "    }\n",
              "\n",
              "    [theme=dark] .colab-df-convert:hover {\n",
              "      background-color: #434B5C;\n",
              "      box-shadow: 0px 1px 3px 1px rgba(0, 0, 0, 0.15);\n",
              "      filter: drop-shadow(0px 1px 2px rgba(0, 0, 0, 0.3));\n",
              "      fill: #FFFFFF;\n",
              "    }\n",
              "  </style>\n",
              "\n",
              "      <script>\n",
              "        const buttonEl =\n",
              "          document.querySelector('#df-a1d86c88-2166-46ea-93ef-4060a68946df button.colab-df-convert');\n",
              "        buttonEl.style.display =\n",
              "          google.colab.kernel.accessAllowed ? 'block' : 'none';\n",
              "\n",
              "        async function convertToInteractive(key) {\n",
              "          const element = document.querySelector('#df-a1d86c88-2166-46ea-93ef-4060a68946df');\n",
              "          const dataTable =\n",
              "            await google.colab.kernel.invokeFunction('convertToInteractive',\n",
              "                                                     [key], {});\n",
              "          if (!dataTable) return;\n",
              "\n",
              "          const docLinkHtml = 'Like what you see? Visit the ' +\n",
              "            '<a target=\"_blank\" href=https://colab.research.google.com/notebooks/data_table.ipynb>data table notebook</a>'\n",
              "            + ' to learn more about interactive tables.';\n",
              "          element.innerHTML = '';\n",
              "          dataTable['output_type'] = 'display_data';\n",
              "          await google.colab.output.renderOutput(dataTable, element);\n",
              "          const docLink = document.createElement('div');\n",
              "          docLink.innerHTML = docLinkHtml;\n",
              "          element.appendChild(docLink);\n",
              "        }\n",
              "      </script>\n",
              "    </div>\n",
              "  </div>\n",
              "  "
            ]
          },
          "metadata": {},
          "execution_count": 4
        }
      ]
    },
    {
      "cell_type": "markdown",
      "source": [
        "# 5. Menghapus kolom yang tidak diperlukan"
      ],
      "metadata": {
        "id": "oyUC_m1EtDtZ"
      }
    },
    {
      "cell_type": "code",
      "source": [
        "\n",
        "# Menghapus baris yang memiliki nilai NaN pada kolom 'Salary'\n",
        "df.dropna(subset=['Salary'], inplace=True)\n"
      ],
      "metadata": {
        "id": "3XXEy7zDtE7q"
      },
      "execution_count": 12,
      "outputs": []
    },
    {
      "cell_type": "markdown",
      "source": [
        "# 6. Encoding data kategori pada Atribut dan Class/Label"
      ],
      "metadata": {
        "id": "XZWAy8iW0mpK"
      }
    },
    {
      "cell_type": "code",
      "source": [
        "from sklearn.compose import ColumnTransformer\n",
        "from sklearn.preprocessing import OneHotEncoder, LabelEncoder\n",
        "\n",
        "# Melakukan encoding pada data kategori (atribut)\n",
        "df_encoded = pd.get_dummies(df, columns=['Country'])\n",
        "\n",
        "# Melakukan encoding pada data kategori (class/label)\n",
        "le = LabelEncoder()\n",
        "df['Purchased'] = le.fit_transform(df['Purchased'])\n",
        "\n",
        "# Menampilkan hasil encoding dalam data frame\n",
        "print('Hasil Encoding Data Frame:')\n",
        "print(df_encoded)\n",
        "print('\\n')\n",
        "print('Hasil Encoding Kolom Purchased:')\n",
        "print(df)"
      ],
      "metadata": {
        "colab": {
          "base_uri": "https://localhost:8080/"
        },
        "id": "WaM6brfH0uWQ",
        "outputId": "b0938e5d-6f27-4a67-d3fa-7d59d735efad"
      },
      "execution_count": 45,
      "outputs": [
        {
          "output_type": "stream",
          "name": "stdout",
          "text": [
            "Hasil Encoding Data Frame:\n",
            "    Age   Salary Purchased  Country_France  Country_Germany  Country_Spain\n",
            "0  44.0  72000.0        No               1                0              0\n",
            "1  27.0  48000.0       Yes               0                0              1\n",
            "2  30.0  54000.0        No               0                1              0\n",
            "3  38.0  61000.0        No               0                0              1\n",
            "5  35.0  58000.0       Yes               1                0              0\n",
            "7  48.0  79000.0       Yes               1                0              0\n",
            "8  50.0  83000.0        No               0                1              0\n",
            "9  37.0  67000.0       Yes               1                0              0\n",
            "\n",
            "\n",
            "Hasil Encoding Kolom Purchased:\n",
            "   Country   Age   Salary  Purchased\n",
            "0   France  44.0  72000.0          0\n",
            "1    Spain  27.0  48000.0          1\n",
            "2  Germany  30.0  54000.0          0\n",
            "3    Spain  38.0  61000.0          0\n",
            "5   France  35.0  58000.0          1\n",
            "7   France  48.0  79000.0          1\n",
            "8  Germany  50.0  83000.0          0\n",
            "9   France  37.0  67000.0          1\n"
          ]
        }
      ]
    },
    {
      "cell_type": "markdown",
      "source": [
        "# 7. Membagi dataset menjadi training set dan test set"
      ],
      "metadata": {
        "id": "LUC5t2zc_A2T"
      }
    },
    {
      "cell_type": "code",
      "source": [
        "from sklearn.model_selection import train_test_split\n",
        "# Memisahkan atribut dan label\n",
        "X = df_encoded.drop('Purchased', axis=1)\n",
        "y = df['Purchased']\n",
        "\n",
        "# Membagi dataset menjadi training set dan test set\n",
        "X_train, X_test, y_train, y_test = train_test_split(X, y, test_size=0.2, random_state=42)\n",
        "\n",
        "print('Training Set X:\\n', X_train)\n",
        "print('Training Set X:\\n', X_test)\n",
        "print('Training Set Y:\\n', y_train)\n",
        "print('Training Set Y:\\n', y_test)\n",
        "# Menampilkan ukuran dari training set dan test set\n",
        "print('Ukuran Training Set: ', X_train.shape, y_train.shape)\n",
        "print('Ukuran Test Set: ', X_test.shape, y_test.shape)"
      ],
      "metadata": {
        "colab": {
          "base_uri": "https://localhost:8080/"
        },
        "id": "OzhZY7ox_B0Z",
        "outputId": "6cbbde7a-7bc1-476d-b0a6-1c49ac915989"
      },
      "execution_count": 59,
      "outputs": [
        {
          "output_type": "stream",
          "name": "stdout",
          "text": [
            "Training Set X:\n",
            "     Age   Salary  Country_France  Country_Germany  Country_Spain\n",
            "0  44.0  72000.0               1                0              0\n",
            "9  37.0  67000.0               1                0              0\n",
            "2  30.0  54000.0               0                1              0\n",
            "5  35.0  58000.0               1                0              0\n",
            "3  38.0  61000.0               0                0              1\n",
            "8  50.0  83000.0               0                1              0\n",
            "Training Set X:\n",
            "     Age   Salary  Country_France  Country_Germany  Country_Spain\n",
            "1  27.0  48000.0               0                0              1\n",
            "7  48.0  79000.0               1                0              0\n",
            "Training Set Y:\n",
            " 0    0\n",
            "9    1\n",
            "2    0\n",
            "5    1\n",
            "3    0\n",
            "8    0\n",
            "Name: Purchased, dtype: int64\n",
            "Training Set Y:\n",
            " 1    1\n",
            "7    1\n",
            "Name: Purchased, dtype: int64\n",
            "Ukuran Training Set:  (6, 5) (6,)\n",
            "Ukuran Test Set:  (2, 5) (2,)\n"
          ]
        }
      ]
    },
    {
      "cell_type": "markdown",
      "source": [
        "# 8. Feature Scaling"
      ],
      "metadata": {
        "id": "dGwfvHzGA3Rc"
      }
    },
    {
      "cell_type": "code",
      "source": [
        "\n",
        "# Melakukan feature scaling pada atribut\n",
        "scaler = StandardScaler()\n",
        "X_train_scaled = scaler.fit_transform(X_train)\n",
        "X_test_scaled = scaler.transform(X_test)\n",
        "\n",
        "# Menampilkan hasil feature scaling pada X_train dan X_test\n",
        "print('Data X_train setelah Feature Scaling: \\n', X_train_scaled)\n",
        "print('Data X_test setelah Feature Scaling: \\n', X_test_scaled)"
      ],
      "metadata": {
        "colab": {
          "base_uri": "https://localhost:8080/"
        },
        "id": "hOZAyY5VA6C6",
        "outputId": "1e2bde87-bc21-45d4-d958-c8175becae59"
      },
      "execution_count": 63,
      "outputs": [
        {
          "output_type": "stream",
          "name": "stdout",
          "text": [
            "Data X_train setelah Feature Scaling: \n",
            " [[ 0.77771377  0.63897659  1.         -0.70710678 -0.4472136 ]\n",
            " [-0.31108551  0.12088746  1.         -0.70710678 -0.4472136 ]\n",
            " [-1.39988479 -1.22614427 -1.          1.41421356 -0.4472136 ]\n",
            " [-0.62217102 -0.81167297  1.         -0.70710678 -0.4472136 ]\n",
            " [-0.15554275 -0.50081949 -1.         -0.70710678  2.23606798]\n",
            " [ 1.7109703   1.77877267 -1.          1.41421356 -0.4472136 ]]\n",
            "Data X_test setelah Feature Scaling: \n",
            " [[-1.86651305 -1.84785122 -1.         -0.70710678  2.23606798]\n",
            " [ 1.39988479  1.36430137  1.         -0.70710678 -0.4472136 ]]\n"
          ]
        }
      ]
    }
  ]
}